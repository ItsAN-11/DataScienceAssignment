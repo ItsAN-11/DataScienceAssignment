{
 "cells": [
  {
   "cell_type": "code",
   "execution_count": null,
   "id": "777f8116-b8b3-4e35-88c2-9530ed9ac345",
   "metadata": {},
   "outputs": [],
   "source": [
    "### Q1. Explain Class and Object with respect to Object-Oriented Programming. Give a suitable example."
   ]
  },
  {
   "cell_type": "markdown",
   "id": "56313df2-19d6-4e1f-8926-65fce7c7d5a4",
   "metadata": {},
   "source": [
    "OBJECT : an object is an single instance of a class, which contains data and methods working on that data. So, an object consist"
   ]
  },
  {
   "cell_type": "markdown",
   "id": "df73c0c7-91e1-43e2-8845-119b4c82fde0",
   "metadata": {},
   "source": [
    "A class is an blueprint for an object that defines it's attribute and methods. For a given class, we can create a multiple object. To create a class in python, we use the keyword \"class\" followed by the name of the class ending with a colon.\n",
    "\n",
    "On the other side an object is an single instance of a class in python. A object is a container that holds data (attributes) and function (methods) that operate on that data.\n",
    "\n",
    "Example:- A mobile phone has attributes like brand name, RAM, pixel, ROM, etc. and function like texting, calling etc. Here, the mobile phone is a class of various phone or different companies (the object)."
   ]
  },
  {
   "cell_type": "code",
   "execution_count": null,
   "id": "8bc74a59-2bd3-4455-ad31-3be79a83971f",
   "metadata": {},
   "outputs": [],
   "source": []
  },
  {
   "cell_type": "markdown",
   "id": "fb4ba085-0905-44e3-b3ad-51375c04d1af",
   "metadata": {},
   "source": [
    "### Q2. Name the four pillars of OOPs."
   ]
  },
  {
   "cell_type": "markdown",
   "id": "6e6260a4-db25-4dea-8488-2559aed0a942",
   "metadata": {},
   "source": [
    "The four pillars of oops are:-\n",
    "1.Abstraction\n",
    "2.Polymorphism\n",
    "3.Encapsulation\n",
    "4.Inheritance"
   ]
  },
  {
   "cell_type": "code",
   "execution_count": null,
   "id": "6f4f771b-127f-4ed3-b377-8609e6796aa4",
   "metadata": {},
   "outputs": [],
   "source": []
  },
  {
   "cell_type": "code",
   "execution_count": null,
   "id": "4d772302-2b62-404f-b5ff-1c4013d783dc",
   "metadata": {},
   "outputs": [],
   "source": [
    "### Q3. Explain why the __init__() function is used. Give a suitable example."
   ]
  },
  {
   "cell_type": "markdown",
   "id": "2eae814c-f83d-451a-9f2e-282b24c11415",
   "metadata": {},
   "source": [
    "__init__ is a special python method that runs whenever a new object is created. These types of functions are used to initialize the attributes of that class, E.g., if the class is Person, then the attributes will be name, age, etc."
   ]
  },
  {
   "cell_type": "code",
   "execution_count": 2,
   "id": "3ed75b22-bfdc-467b-b82c-ed25bfd53390",
   "metadata": {},
   "outputs": [
    {
     "name": "stdout",
     "output_type": "stream",
     "text": [
      "From: Germany\n",
      "To_city: India\n"
     ]
    }
   ],
   "source": [
    "class Trip:\n",
    "    def __init__(self, to_city, from_city):\n",
    "        self.to_city = to_city\n",
    "        self.from_city = from_city\n",
    " \n",
    "    def holiday(self):\n",
    "     return (\"From: \" + self.from_city + \"\\nTo_city: \" + self.to_city)\n",
    " \n",
    "T = Trip('India', 'Germany')\n",
    "print(T.holiday())\n"
   ]
  },
  {
   "cell_type": "code",
   "execution_count": null,
   "id": "9030ef25-4ced-4c74-b72a-2fa98f9249a3",
   "metadata": {},
   "outputs": [],
   "source": []
  },
  {
   "cell_type": "code",
   "execution_count": null,
   "id": "e5dce005-490d-49ab-8a1e-103c5b5fce73",
   "metadata": {},
   "outputs": [],
   "source": [
    "## Q4.Why self is used in OOPs?"
   ]
  },
  {
   "cell_type": "markdown",
   "id": "7c4f094c-203f-4789-b92a-422366537b29",
   "metadata": {},
   "source": [
    "The self variable is used to represent the instance of the class which is often used in object-oriented programming. It works as a reference to the object. Python uses the self parameter to refer to instance attributes and methods of the class.  "
   ]
  },
  {
   "cell_type": "code",
   "execution_count": 3,
   "id": "a5401fe4-47a3-4185-b454-e3eb56953edd",
   "metadata": {},
   "outputs": [],
   "source": [
    "class rectangle:\n",
    "    def __init__(self, length, breadth, cost_per_unit =0): \n",
    "       self.length = length \n",
    "       self.breadth = breadth \n",
    "       self.cost_per_unit = cost_per_unit \n",
    "    def perimeter(self): \n",
    "       return 2 * (self.length + self.breadth)\n",
    "    \n"
   ]
  },
  {
   "cell_type": "code",
   "execution_count": 10,
   "id": "6ed250ef-d3e6-4055-a160-38314ad5b650",
   "metadata": {},
   "outputs": [],
   "source": [
    "x = rectangle(2,4)"
   ]
  },
  {
   "cell_type": "code",
   "execution_count": 12,
   "id": "8ae16488-a720-43c3-a316-26d353d87287",
   "metadata": {},
   "outputs": [
    {
     "name": "stdout",
     "output_type": "stream",
     "text": [
      "Perimeter of rectangle is :  12\n"
     ]
    }
   ],
   "source": [
    "print(\"Perimeter of rectangle is : \",x.perimeter())"
   ]
  },
  {
   "cell_type": "code",
   "execution_count": null,
   "id": "3de98948-a290-435f-8265-0964462f607e",
   "metadata": {},
   "outputs": [],
   "source": []
  },
  {
   "cell_type": "code",
   "execution_count": null,
   "id": "2c2f2944-4518-44a6-8e6c-ab0b1eec9e49",
   "metadata": {},
   "outputs": [],
   "source": []
  },
  {
   "cell_type": "code",
   "execution_count": null,
   "id": "432b0e4d-b099-46c0-ad7b-32cc436adaa4",
   "metadata": {},
   "outputs": [],
   "source": [
    "## Q5. What is inheritance? Give an example for each type of inheritance."
   ]
  },
  {
   "cell_type": "markdown",
   "id": "59e3fec5-f4f3-4c61-a27d-08b2a3116e5e",
   "metadata": {},
   "source": [
    "Inheritance is a mechanism in which one class acquires the property of another class. For example, a child inherits the traits of his/her parents. With inheritance, we can reuse the fields and methods of the existing class. Hence, inheritance facilitates Reusability and is an important concept of OOPs.\n",
    "\n"
   ]
  },
  {
   "cell_type": "markdown",
   "id": "17eb8208-5d16-4675-b470-07e01c2ee71b",
   "metadata": {},
   "source": [
    "There are four kinds of inheritance in python:-\n",
    "1. Single inhertance: Single inheritance allows a derivate class to inherit properties of one parent class, and this allows code reuse and the introduction of additional features in existing code.\n"
   ]
  },
  {
   "cell_type": "code",
   "execution_count": 6,
   "id": "701e19d6-f1c7-470f-a508-3aa3b2718e1d",
   "metadata": {},
   "outputs": [
    {
     "name": "stdout",
     "output_type": "stream",
     "text": [
      "This function is defined inside the parent class.\n",
      "This function is defined inside the child class.\n"
     ]
    }
   ],
   "source": [
    "class Parent1:  \n",
    "    def func_1(self):  \n",
    "        print (\"This function is defined inside the parent class.\")  \n",
    "  \n",
    "\n",
    "class Child1(Parent1):\n",
    "    def func_2(self):  \n",
    "        print (\"This function is defined inside the child class.\")  \n",
    "    \n",
    "object = Child1()  \n",
    "object.func_1()  \n",
    "object.func_2()  "
   ]
  },
  {
   "cell_type": "markdown",
   "id": "1f05fdfc-7673-4784-8450-b802f9f66e25",
   "metadata": {},
   "source": [
    "2. Multiple Inheritance If a class is able to be created from multiple base classes, this kind of Inheritance is known as multiple Inheritance. When there is multiple Inheritance, each of the attributes that are present in the classes of the base has been passed on to the class that is derived from it."
   ]
  },
  {
   "cell_type": "code",
   "execution_count": 7,
   "id": "12c0fed0-3f82-4c15-ab5b-2b10583cafec",
   "metadata": {},
   "outputs": [
    {
     "name": "stdout",
     "output_type": "stream",
     "text": [
      "Mother name is:  Suman Gupta\n",
      "Father name is :  Anil Kumar Gupta\n"
     ]
    }
   ],
   "source": [
    "class mother:\n",
    "    motherName = \"\"\n",
    "    def mother(self):\n",
    "        print(self.motherName)\n",
    "        \n",
    "        \n",
    "class father:\n",
    "    fatherName = \"\"\n",
    "    def father(self):\n",
    "        print(self.fatherName)\n",
    "        \n",
    "        \n",
    "class daughter(mother, father):\n",
    "    def parents(self):\n",
    "        print(\"Mother name is: \", self.motherName)\n",
    "        print(\"Father name is : \", self.fatherName)\n",
    "        \n",
    "        \n",
    "d1 = daughter()\n",
    "d1.motherName = \"Suman Gupta\"\n",
    "d1.fatherName = \"Anil Kumar Gupta\"\n",
    "\n",
    "d1.parents()"
   ]
  },
  {
   "cell_type": "markdown",
   "id": "d1e91d52-c91e-4ac6-bd08-b5ac58400e44",
   "metadata": {},
   "source": [
    "3.Multilevel inheritance, the features that are part of the original class, as well as the class that is derived from it, are passed on to the new class. It is similar to a relationship involving grandparents and children.\n",
    "\n"
   ]
  },
  {
   "cell_type": "code",
   "execution_count": null,
   "id": "84959333-5536-4e6c-abe3-a541d7cdaecf",
   "metadata": {},
   "outputs": [],
   "source": [
    "class Grandfather1:  \n",
    "  \n",
    "    def __init__(self, grandfathername1):  \n",
    "        self.grandfathername1 = grandfathername1  \n",
    "  \n",
    "class Father1(Grandfather1):  \n",
    "    def __init__(self, fathername1, grandfathername1):  \n",
    "        self.fathername1 = fathername1  \n",
    "  \n",
    "         \n",
    "        Grandfather1.__init__(self, grandfathername1)  \n",
    "  \n",
    "# here, we will create the Derived class  \n",
    "class Son1(Father1):  \n",
    "    def __init__(self,sonname1, fathername1, grandfathername1):  \n",
    "        self.sonname1 = sonname1  \n",
    "  \n",
    "        Father1.__init__(self, fathername1, grandfathername1)  \n",
    "  \n",
    "    def print_name(self):  \n",
    "        print('Grandfather name is :', self.grandfathername1)  \n",
    "        print(\"Father name is :\", self.fathername1)  \n",
    "        print(\"Son name is :\", self.sonname1)  \n",
    "  \n",
    "# Driver code  \n",
    "s1 = Son1('John', 'John Jr', 'John Jr Jr')  \n",
    "print (s1.grandfathername1)  \n",
    "s1.print_name()  "
   ]
  },
  {
   "cell_type": "code",
   "execution_count": null,
   "id": "65a9495d-87c6-4847-bb32-3716b6143774",
   "metadata": {},
   "outputs": [],
   "source": []
  },
  {
   "cell_type": "markdown",
   "id": "5c41ab25-2e01-400d-bd5b-ec6439ee09fd",
   "metadata": {},
   "source": [
    "4. Hierarchical Inheritance If multiple derived classes are created from the same base, this kind of Inheritance is known as hierarchical inheritance. In this instance, we have two base classes as a parent (base) class as well as two children (derived) classes."
   ]
  },
  {
   "cell_type": "code",
   "execution_count": null,
   "id": "3947f8ab-c64a-4717-be95-921b2b126f9e",
   "metadata": {},
   "outputs": [],
   "source": [
    "class Parent1:  \n",
    "    def func_1(self):  \n",
    "        print (\"This function is defined inside the parent class.\")  \n",
    "  \n",
    "# Derived class1  \n",
    "class Child_1(Parent1):  \n",
    "    def func_2(self):  \n",
    "        print (\"This function is defined inside the child 1.\")  \n",
    "  \n",
    "# Derivied class2  \n",
    "class Child_2(Parent1):  \n",
    "    def func_3(self):  \n",
    "        print (\"This function is defined inside the child 2.\")  \n",
    "  \n",
    "# Driver's code  \n",
    "object1 = Child_1()  \n",
    "object2 = Child_2()  \n",
    "object1.func_1()  \n",
    "object1.func_2()  \n",
    "object2.func_1()  \n",
    "object2.func_3()  "
   ]
  },
  {
   "cell_type": "code",
   "execution_count": null,
   "id": "f8b783ff-58b8-4b04-8191-64b5db113b72",
   "metadata": {},
   "outputs": [],
   "source": []
  },
  {
   "cell_type": "code",
   "execution_count": null,
   "id": "a2589459-0f90-4bb9-8158-23af8a8a24be",
   "metadata": {},
   "outputs": [],
   "source": [
    "\n"
   ]
  }
 ],
 "metadata": {
  "kernelspec": {
   "display_name": "Python 3 (ipykernel)",
   "language": "python",
   "name": "python3"
  },
  "language_info": {
   "codemirror_mode": {
    "name": "ipython",
    "version": 3
   },
   "file_extension": ".py",
   "mimetype": "text/x-python",
   "name": "python",
   "nbconvert_exporter": "python",
   "pygments_lexer": "ipython3",
   "version": "3.10.8"
  }
 },
 "nbformat": 4,
 "nbformat_minor": 5
}
