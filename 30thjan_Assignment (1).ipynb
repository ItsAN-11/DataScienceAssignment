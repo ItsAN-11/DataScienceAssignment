{
 "cells": [
  {
   "cell_type": "code",
   "execution_count": 1,
   "id": "c7ce217e-c06f-450a-877c-d15e285d4ad4",
   "metadata": {},
   "outputs": [],
   "source": [
    "#1.program to accept percentage from the user and displaythe grade according to tha ollowingcritria:--"
   ]
  },
  {
   "cell_type": "code",
   "execution_count": 5,
   "id": "0b3f7bfd-b2c5-4ce8-9c83-dfb12c3959f5",
   "metadata": {},
   "outputs": [
    {
     "name": "stdin",
     "output_type": "stream",
     "text": [
      "Enter your percentage % :  78\n"
     ]
    },
    {
     "name": "stdout",
     "output_type": "stream",
     "text": [
      "Your grade is C.\n"
     ]
    }
   ],
   "source": [
    "percent = float(input(\"Enter your percentage % : \"))\n",
    "if percent>90:\n",
    "    print(\"Congralutaion! Your grade is A.\")\n",
    "elif percent>80 and percent <= 90:\n",
    "    print(\"Your grade is B.\")\n",
    "elif percent>=60 and percent<=80:\n",
    "    print(\"Your grade is C.\")\n",
    "elif percent <60 and percent >=40:\n",
    "    print(\"Your grade is D\")\n",
    "\n",
    "else:\n",
    "    print(\"You failed the examination.\")"
   ]
  },
  {
   "cell_type": "code",
   "execution_count": 6,
   "id": "32f72b60-b37a-44a7-ade6-82ad2cbc3f36",
   "metadata": {},
   "outputs": [],
   "source": [
    "# program to accept the cost price of  bike and display the taxto be paid"
   ]
  },
  {
   "cell_type": "code",
   "execution_count": 7,
   "id": "b82c1b98-f32d-45ae-9788-17ebb54eb5f8",
   "metadata": {},
   "outputs": [
    {
     "name": "stdin",
     "output_type": "stream",
     "text": [
      "Enter price of your bike :  600000\n"
     ]
    },
    {
     "name": "stdout",
     "output_type": "stream",
     "text": [
      "You have to 15% tax road tax for your bike.\n"
     ]
    }
   ],
   "source": [
    "cost = float(input(\"Enter price of your bike : \"))\n",
    "if cost>100000:\n",
    "    print(\"You have to 15% tax road tax for your bike.\")\n",
    "elif cost>50000 and cost<= 100000:\n",
    "    print(\"You have to pay 10% road tax fo your bike\")\n",
    "elif cost<=50000:\n",
    "    print(\"You have to pay 5% of tax for your bike.\")"
   ]
  },
  {
   "cell_type": "code",
   "execution_count": null,
   "id": "566f4545-3677-4d1d-8e39-44429f4a165b",
   "metadata": {},
   "outputs": [],
   "source": [
    "# Accept any city from your user and display mnument of that city"
   ]
  },
  {
   "cell_type": "code",
   "execution_count": 16,
   "id": "5a950a7b-c58d-430a-9792-8a5d85104a9b",
   "metadata": {},
   "outputs": [
    {
     "name": "stdin",
     "output_type": "stream",
     "text": [
      "Please enter any city name :  JAIPUR\n"
     ]
    },
    {
     "name": "stdout",
     "output_type": "stream",
     "text": [
      "Monument of Jaipur is Jai Mahal.\n"
     ]
    }
   ],
   "source": [
    "city = input(\"Please enter any city name : \")\n",
    "if city.upper()== \"DELHI\":\n",
    "    print(\"Monument of Delhi is Red Fort.\")\n",
    "elif city.upper() == \"AGRA\":\n",
    "    print(\"Monument of Agra is Taj Mahal.\")\n",
    "elif city.upper() == \"JAIPUR\":\n",
    "    print(\"Monument of Jaipur is Jai Mahal.\")\n",
    "\n",
    "else:\n",
    "    print(\"Please enter valid city\")"
   ]
  },
  {
   "cell_type": "code",
   "execution_count": 17,
   "id": "1da068c4-b18d-472c-839d-77e8c3e3fd52",
   "metadata": {},
   "outputs": [],
   "source": [
    "# cHECK HOW MANY TME A GIVEN IS DIVIDED BY 3 BEFORE IT IS LESS THAN 10 "
   ]
  },
  {
   "cell_type": "code",
   "execution_count": null,
   "id": "bb07f742-99db-4752-b8c1-a3440e19e958",
   "metadata": {},
   "outputs": [],
   "source": [
    "num1=int(input(\"Enter your number:\"))\n",
    "sum = 1\n",
    "while(num1%3==0 or num1<=10):\n",
    "    sum += 1\n",
    "print(num1,\"is divided by 3 for\",sum ,\"times.\")"
   ]
  },
  {
   "cell_type": "markdown",
   "id": "3cd276b3-d347-48b4-9cf2-3fe506263cb2",
   "metadata": {},
   "source": [
    "### why and when to use while loop?\n",
    "### Python while loop is used to run a block code until a certain condition is met.\n",
    "### The syntax of while loop is:\n",
    "\n"
   ]
  },
  {
   "cell_type": "code",
   "execution_count": null,
   "id": "608bfe60-a0c0-4d7e-ace8-286193267fd4",
   "metadata": {},
   "outputs": [],
   "source": [
    "# 6.use nested while loop to print 3 different pattern\n"
   ]
  },
  {
   "cell_type": "code",
   "execution_count": 2,
   "id": "d099d723-1b1d-4c15-9a9b-1b9262db0a09",
   "metadata": {},
   "outputs": [
    {
     "name": "stdout",
     "output_type": "stream",
     "text": [
      "1 \n",
      "2 2 \n",
      "3 3 3 \n",
      "4 4 4 4 \n",
      "5 5 5 5 5 \n"
     ]
    }
   ],
   "source": [
    "rows = 5\n",
    "i = 1\n",
    "while i <= rows:\n",
    "    j = 1\n",
    "    while j <= i:\n",
    "        print((i ), end=\" \")\n",
    "        j = j + 1\n",
    "    i = i + 1\n",
    "    print('')"
   ]
  },
  {
   "cell_type": "code",
   "execution_count": 6,
   "id": "e00558ff-eba5-408c-8164-7d583c7e09e5",
   "metadata": {},
   "outputs": [
    {
     "name": "stdin",
     "output_type": "stream",
     "text": [
      "Enter number of rows :  8\n"
     ]
    },
    {
     "name": "stdout",
     "output_type": "stream",
     "text": [
      "********\n",
      "*******\n",
      "******\n",
      "*****\n",
      "****\n",
      "***\n",
      "**\n",
      "*\n"
     ]
    }
   ],
   "source": [
    "n = int(input('Enter number of rows : '))\n",
    "\n",
    "i = 1\n",
    "while i <= n :\n",
    "    j = n\n",
    "    while j >= i:\n",
    "        print(\"*\", end = \"\")\n",
    "        j -= 1\n",
    "    print()\n",
    "    i += 1"
   ]
  },
  {
   "cell_type": "code",
   "execution_count": 9,
   "id": "11f8f10b-663b-4ffa-9667-d41c62b4fc30",
   "metadata": {},
   "outputs": [
    {
     "name": "stdout",
     "output_type": "stream",
     "text": [
      "     \n",
      "    *\n",
      "   **\n",
      "  ***\n",
      " ****\n",
      "*****\n"
     ]
    }
   ],
   "source": [
    "n = 5\n",
    "i = 0\n",
    "while i<=n :\n",
    "    print(\" \" * (n - i) +\"*\" * i)\n",
    "    i+=1"
   ]
  },
  {
   "cell_type": "code",
   "execution_count": null,
   "id": "50fdacea-872b-44ec-961f-feafa91ca77c",
   "metadata": {},
   "outputs": [],
   "source": [
    "### 7. Reverse a while loop to display a number in reverse order"
   ]
  },
  {
   "cell_type": "code",
   "execution_count": 10,
   "id": "00d95aa1-9d70-401c-bd07-99169df5492d",
   "metadata": {},
   "outputs": [
    {
     "name": "stdout",
     "output_type": "stream",
     "text": [
      "10\n",
      "9\n",
      "8\n",
      "7\n",
      "6\n",
      "5\n",
      "4\n",
      "3\n",
      "2\n",
      "1\n"
     ]
    }
   ],
   "source": [
    "i = 10\n",
    "while i > 0:\n",
    "    print(i)\n",
    "    i = i - 1"
   ]
  },
  {
   "cell_type": "code",
   "execution_count": null,
   "id": "abe7cc8d-84ef-4889-8a71-06be43030738",
   "metadata": {},
   "outputs": [],
   "source": []
  },
  {
   "cell_type": "code",
   "execution_count": null,
   "id": "0535490e-9231-4721-b2f9-e7df7057ef89",
   "metadata": {},
   "outputs": [],
   "source": []
  }
 ],
 "metadata": {
  "kernelspec": {
   "display_name": "Python 3 (ipykernel)",
   "language": "python",
   "name": "python3"
  },
  "language_info": {
   "codemirror_mode": {
    "name": "ipython",
    "version": 3
   },
   "file_extension": ".py",
   "mimetype": "text/x-python",
   "name": "python",
   "nbconvert_exporter": "python",
   "pygments_lexer": "ipython3",
   "version": "3.10.8"
  }
 },
 "nbformat": 4,
 "nbformat_minor": 5
}
