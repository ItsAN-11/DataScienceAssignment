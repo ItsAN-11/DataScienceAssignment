{
 "cells": [
  {
   "cell_type": "code",
   "execution_count": null,
   "id": "5e485582-0463-42c4-af74-d02ed1429374",
   "metadata": {},
   "outputs": [],
   "source": []
  },
  {
   "cell_type": "code",
   "execution_count": 8,
   "id": "4097bddd-a424-41fb-ba8a-ba4c514ee7dd",
   "metadata": {},
   "outputs": [],
   "source": [
    "### Q1. Create a python program to sort the given list of tuples based on integer value using a\n",
    "### lambda function."
   ]
  },
  {
   "cell_type": "code",
   "execution_count": 7,
   "id": "93dc60a5-6d41-4710-92b6-1326f370f7ba",
   "metadata": {},
   "outputs": [
    {
     "name": "stdout",
     "output_type": "stream",
     "text": [
      "Original order  [('Sachin Tendulkar', 34357), ('Ricky Ponting', 27483), ('Jack Kallis', 25534), ('Virat Kohli', 24936)]\n"
     ]
    }
   ],
   "source": [
    "t1 =[('Sachin Tendulkar', 34357), ('Ricky Ponting', 27483), ('Jack Kallis', 25534), ('Virat Kohli', 24936)]\n",
    "print(\"Original order \",t1)"
   ]
  },
  {
   "cell_type": "code",
   "execution_count": 9,
   "id": "d9947554-254d-48a8-bf3e-d7efbfaa5b27",
   "metadata": {},
   "outputs": [
    {
     "name": "stdout",
     "output_type": "stream",
     "text": [
      "Sorted list of t1:  [('Virat Kohli', 24936), ('Jack Kallis', 25534), ('Ricky Ponting', 27483), ('Sachin Tendulkar', 34357)]\n"
     ]
    }
   ],
   "source": [
    "t1.sort(key = lambda x :x[1])\n",
    "print(\"Sorted list of t1: \",t1)"
   ]
  },
  {
   "cell_type": "code",
   "execution_count": null,
   "id": "fcd43b91-1e46-4f11-8c4f-873b62654144",
   "metadata": {},
   "outputs": [],
   "source": []
  },
  {
   "cell_type": "code",
   "execution_count": null,
   "id": "0267f06e-b325-423a-ac3b-02543836f2cd",
   "metadata": {},
   "outputs": [],
   "source": [
    "### Q2. Write a Python Program to find the squares of all the numbers in the given list of integers using\n",
    "### lambda and map functions."
   ]
  },
  {
   "cell_type": "code",
   "execution_count": 22,
   "id": "079b11b4-f777-44c9-918e-d092c15a15e2",
   "metadata": {},
   "outputs": [
    {
     "name": "stdout",
     "output_type": "stream",
     "text": [
      "[1, 2, 3, 4, 5, 6, 7, 8, 9]\n"
     ]
    }
   ],
   "source": [
    "l1 = [1,2,3,4,5,6,7,8,9]\n",
    "print(l1)"
   ]
  },
  {
   "cell_type": "code",
   "execution_count": 2,
   "id": "8698e6cb-5e10-49dc-a0e0-f801c0b481ae",
   "metadata": {},
   "outputs": [
    {
     "name": "stdout",
     "output_type": "stream",
     "text": [
      "(1, 2, 3, 4, 5, 6, 7, 8, 9)\n",
      "[1, 4, 9, 16, 25, 36, 49, 64, 81]\n"
     ]
    }
   ],
   "source": [
    "t1= (1,2,3,4,5,6,7,8,9)\n",
    "print(t1)\n",
    "square_num = list(map(lambda x: x**2, l1))\n",
    "print(square_num)"
   ]
  },
  {
   "cell_type": "code",
   "execution_count": null,
   "id": "373d5228-301b-464a-8211-a594fe6f5848",
   "metadata": {},
   "outputs": [],
   "source": []
  },
  {
   "cell_type": "code",
   "execution_count": null,
   "id": "eda3fbf7-3c16-4653-b57d-3af9b730aa8a",
   "metadata": {},
   "outputs": [],
   "source": [
    "Q3. Write a python program to convert the given list of integers into a tuple of strings. Use map and\n",
    "lambda functions"
   ]
  },
  {
   "cell_type": "code",
   "execution_count": null,
   "id": "3b8f050e-66b4-4a27-b28d-a1b02a2e1cf0",
   "metadata": {},
   "outputs": [],
   "source": [
    "## [1, 2, 3, 4, 5, 6, 7, 8, 9, 10]"
   ]
  },
  {
   "cell_type": "code",
   "execution_count": null,
   "id": "caef7e85-83e4-49ab-9611-ded206d91a66",
   "metadata": {},
   "outputs": [],
   "source": [
    "## Given String: [1, 2, 3, 4, 5, 6, 7, 8, 9, 10]\n",
    "## Expected output: ('1', '2', '3', '4', '5', '6', '7', '8', '9', '10')"
   ]
  },
  {
   "cell_type": "code",
   "execution_count": 15,
   "id": "8af12253-ecba-4ed5-9a8d-05e1f5f12788",
   "metadata": {},
   "outputs": [
    {
     "name": "stdout",
     "output_type": "stream",
     "text": [
      "Original list are :\n",
      "[1, 2, 3, 4, 5, 6, 7, 8, 9, 10]\n",
      "\n",
      "Tuple of strings:\n",
      "('1', '2', '3', '4', '5', '6', '7', '8', '9', '10')\n"
     ]
    }
   ],
   "source": [
    "nums_list = [1,2,3,4,5,6,7,8,9,10]\n",
    "print(\"Original list are :\")\n",
    "print(nums_list)\n",
    "result_tuple = tuple(map(str,nums_list))\n",
    "print(\"\\nTuple of strings:\")\n",
    "print(result_tuple)\n"
   ]
  },
  {
   "cell_type": "code",
   "execution_count": null,
   "id": "66e746cc-6935-4e94-942c-c493c49ff57b",
   "metadata": {},
   "outputs": [],
   "source": []
  },
  {
   "cell_type": "code",
   "execution_count": 13,
   "id": "82b576fb-699f-4921-89b1-b39d673d2d59",
   "metadata": {},
   "outputs": [],
   "source": [
    "##Q4. Write a python program using reduce function to compute the product of a list containing numbers\n",
    "## from 1 to 25."
   ]
  },
  {
   "cell_type": "code",
   "execution_count": 17,
   "id": "66c452f5-1ad1-46b8-89c9-dd61a716f66f",
   "metadata": {},
   "outputs": [
    {
     "name": "stdout",
     "output_type": "stream",
     "text": [
      "15511210043330985984000000\n"
     ]
    }
   ],
   "source": [
    "list1= range(1,26)\n",
    "import functools\n",
    "x = functools.reduce(lambda a, b : a*b, list1)\n",
    "print(x)"
   ]
  },
  {
   "cell_type": "code",
   "execution_count": null,
   "id": "c1639187-ed86-44e2-b1c5-6b5c3e5c6822",
   "metadata": {},
   "outputs": [],
   "source": [
    "15511210043330985984000000"
   ]
  },
  {
   "cell_type": "code",
   "execution_count": null,
   "id": "c5465ec9-e207-4584-ac21-4fc7200d9664",
   "metadata": {},
   "outputs": [],
   "source": [
    "\n"
   ]
  },
  {
   "cell_type": "code",
   "execution_count": null,
   "id": "b7f819e3-998c-4b8d-a33c-4dd438dd9393",
   "metadata": {},
   "outputs": [],
   "source": [
    "## Q5. Write a python program to filter the numbers in a given list that are divisible by 2 and 3 using the\n",
    "## filter function.\n",
    "## [2, 3, 6, 9, 27, 60, 90, 120, 55, 46]"
   ]
  },
  {
   "cell_type": "code",
   "execution_count": null,
   "id": "2d554910-349a-4b21-a2dc-8aa47a4d37f7",
   "metadata": {},
   "outputs": [],
   "source": []
  },
  {
   "cell_type": "code",
   "execution_count": 2,
   "id": "d35ac4e6-5bb8-40d8-b51d-a1dc8928a9a1",
   "metadata": {},
   "outputs": [
    {
     "name": "stdout",
     "output_type": "stream",
     "text": [
      "[6, 60, 90, 120]\n"
     ]
    }
   ],
   "source": [
    "nums = [2,3,6,9,27,60,90,120,55,46]\n",
    "divisible_nums = list(filter(lambda x: (x % 2 == 0  and x % 3 == 0), nums))\n",
    "print(divisible_nums)"
   ]
  },
  {
   "cell_type": "code",
   "execution_count": null,
   "id": "d25426aa-0157-42a2-85d5-824e86f1159b",
   "metadata": {},
   "outputs": [],
   "source": []
  },
  {
   "cell_type": "code",
   "execution_count": 5,
   "id": "fc7211b5-4a89-4997-aa2f-2a4e4d9e6408",
   "metadata": {},
   "outputs": [],
   "source": [
    "## Q6. Write a python program to find palindromes in the given list of strings using lambda and filter\n",
    "## function.\n",
    "## ['python', 'php', 'aba', 'radar', 'level']"
   ]
  },
  {
   "cell_type": "code",
   "execution_count": 7,
   "id": "a2852749-5241-4c74-841f-0f7527307bb6",
   "metadata": {},
   "outputs": [
    {
     "name": "stdout",
     "output_type": "stream",
     "text": [
      "List of palindromes: \n",
      "['php', 'aba', 'radar', 'level']\n"
     ]
    }
   ],
   "source": [
    "str1 = ['python', 'php', 'aba', 'radar', 'level']\n",
    "palin = list(filter(lambda x: (x == \"\".join(reversed(x))), str1))\n",
    "print(\"List of palindromes: \")\n",
    "print(palin)"
   ]
  }
 ],
 "metadata": {
  "kernelspec": {
   "display_name": "Python 3 (ipykernel)",
   "language": "python",
   "name": "python3"
  },
  "language_info": {
   "codemirror_mode": {
    "name": "ipython",
    "version": 3
   },
   "file_extension": ".py",
   "mimetype": "text/x-python",
   "name": "python",
   "nbconvert_exporter": "python",
   "pygments_lexer": "ipython3",
   "version": "3.10.8"
  }
 },
 "nbformat": 4,
 "nbformat_minor": 5
}
