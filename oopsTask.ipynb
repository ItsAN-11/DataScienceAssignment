{
 "cells": [
  {
   "cell_type": "markdown",
   "id": "94ed1181-6549-416a-9c11-48413314a3e2",
   "metadata": {},
   "source": [
    "Q1. Create a vehicle class with an init method having instance variables as name_of_vehicle, max_speed\n",
    "and average_of_vehicle."
   ]
  },
  {
   "cell_type": "code",
   "execution_count": 5,
   "id": "7bd33991-925f-43d4-b825-5c31fd25ff6d",
   "metadata": {},
   "outputs": [],
   "source": [
    "class vehicle:\n",
    "    def __init__(self,name_of_vehicle,max_speed,avg_speed):\n",
    "        self.name_of_vehicle = name_of_vehicle\n",
    "        self.max_speed = max_speed\n",
    "        self.avg_speed = avg_speed\n",
    "        \n",
    "     \n",
    "    \n",
    "        \n",
    "        "
   ]
  },
  {
   "cell_type": "markdown",
   "id": "667c2c59-8a94-4db5-a1d8-2edab6b0287c",
   "metadata": {},
   "source": [
    "Q2. Create a child class car from the vehicle class created in Que 1, which will inherit the vehicle class.\n",
    "Create a method named seating_capacity which takes capacity as an argument and returns the name of\n",
    "the vehicle and its seating capacity."
   ]
  },
  {
   "cell_type": "code",
   "execution_count": 7,
   "id": "809025d8-dd7b-42f9-98c9-43db36dd659b",
   "metadata": {},
   "outputs": [],
   "source": [
    "class bus(vehicle):\n",
    "    def seating_capacity(self, capacity):\n",
    "        return f\"The seating capacity of {self.name_of_vehicle} is {capacity} passenger. \""
   ]
  },
  {
   "cell_type": "code",
   "execution_count": 8,
   "id": "31123ffb-d4c8-42b0-bfd8-10df4e3ca327",
   "metadata": {},
   "outputs": [],
   "source": [
    "Bus = vehicle(\"school bus\", 50,40)"
   ]
  },
  {
   "cell_type": "code",
   "execution_count": 12,
   "id": "0a3e6980-d7cf-4ea0-a672-91aa0f7052b7",
   "metadata": {},
   "outputs": [
    {
     "data": {
      "text/plain": [
       "'The seating capacity of school bus is 70 passenger. '"
      ]
     },
     "execution_count": 12,
     "metadata": {},
     "output_type": "execute_result"
    }
   ],
   "source": [
    "bus_detail = bus(\"school bus\", 50,40)\n",
    "bus_detail.seating_capacity(70)"
   ]
  },
  {
   "cell_type": "code",
   "execution_count": null,
   "id": "7a86c8a9-a61e-4c3d-89de-9c250791b2c9",
   "metadata": {},
   "outputs": [],
   "source": []
  },
  {
   "cell_type": "markdown",
   "id": "1561c985-2799-4041-baeb-e21a38c82932",
   "metadata": {},
   "source": [
    "Q3. What is multiple inheritance? Write a python code to demonstrate multiple inheritance."
   ]
  },
  {
   "cell_type": "markdown",
   "id": "b24b5d93-766d-43a7-b209-44464295f50b",
   "metadata": {},
   "source": [
    "Ans) If a child class is inheriting the properties of a single other class, we call it single inheritance. However, if a child class inherits from more than one class, i.e. this child class is derived from multiple classes, we call it multiple inheritance in Python. This newly derived child class will inherit the properties of all the classes that it is derived from. A very simple real life example would be the one discussed above - a child inheriting properties of the father and mother."
   ]
  },
  {
   "cell_type": "markdown",
   "id": "4e423b20-d521-4301-93fe-b56659a62419",
   "metadata": {},
   "source": [
    "for e.g."
   ]
  },
  {
   "cell_type": "code",
   "execution_count": 14,
   "id": "9ea1af38-7ab8-41ac-8b0c-199dde613672",
   "metadata": {},
   "outputs": [
    {
     "name": "stdout",
     "output_type": "stream",
     "text": [
      "Dad sings well\n",
      "Mom cooks well\n",
      "Kid loves to code\n"
     ]
    }
   ],
   "source": [
    "class Dad():\n",
    "\tdef singing(self):\n",
    "\t\tprint(\"Dad sings well\")\n",
    "\t\t\n",
    "\n",
    "class Mom():\n",
    "\n",
    "\tdef cooking(self):\n",
    "\t\tprint(\"Mom cooks well\")\n",
    "\n",
    "\n",
    "class Child(Dad, Mom):\n",
    "\tdef coding(self):\n",
    "\t\tprint(\"Kid loves to code\")\n",
    "\n",
    "\n",
    "child = Child()\n",
    "\n",
    "child.singing()\n",
    "child.cooking()\n",
    "child.coding()\n",
    "\t\t"
   ]
  },
  {
   "cell_type": "code",
   "execution_count": null,
   "id": "7e98df45-1466-451d-85d2-6a6684677419",
   "metadata": {},
   "outputs": [],
   "source": []
  },
  {
   "cell_type": "markdown",
   "id": "2b3987f4-8786-493d-8371-1a47b33e66c2",
   "metadata": {},
   "source": [
    "Q4. What are getter and setter in python? Create a class and create a getter and a setter method in this\n",
    "class."
   ]
  },
  {
   "cell_type": "markdown",
   "id": "c0844153-d0ee-4f7e-bbde-05fc0fcd41ec",
   "metadata": {},
   "source": [
    "In Python, getters and setters are not the same as those in other object-oriented programming languages. Basically, the main purpose of using getters and setters in object-oriented programs is to ensure data encapsulation. Private variables in python are not actually hidden fields like in other object oriented languages."
   ]
  },
  {
   "cell_type": "code",
   "execution_count": 18,
   "id": "bc8bccfa-a8c7-409e-8ee6-71bc1b6654c0",
   "metadata": {},
   "outputs": [
    {
     "name": "stdout",
     "output_type": "stream",
     "text": [
      "setter method\n",
      "getter method\n",
      "18\n"
     ]
    }
   ],
   "source": [
    "class pw:   \n",
    "    def __init__(self):   \n",
    "        self._age = 0  \n",
    "       # using the get function   \n",
    "    def get_age(self):   \n",
    "        print(\"getter method\")   \n",
    "        return self._age   \n",
    "       # using the set function   \n",
    "    def set_age(self, y):   \n",
    "        print(\"setter method\")   \n",
    "        self._age = y   \n",
    "  # using the del function   \n",
    "    def del_age(self):   \n",
    "         del self._age   \n",
    "    age = property(get_age, set_age, del_age)    \n",
    "    \n",
    "John = pw()   \n",
    "    \n",
    "John.age = 18  \n",
    "    \n",
    "print(John.age)   \n"
   ]
  },
  {
   "cell_type": "code",
   "execution_count": null,
   "id": "905a6fc0-7305-40f7-b9d9-cbb4d4af26ad",
   "metadata": {},
   "outputs": [],
   "source": []
  },
  {
   "cell_type": "markdown",
   "id": "c157f75a-ec5e-43b0-8db3-65ed309a39e1",
   "metadata": {},
   "source": [
    "Q5.What is method overriding in python? Write a python code to demonstrate method overriding."
   ]
  },
  {
   "cell_type": "markdown",
   "id": "1e73a304-1aea-47b3-a8ea-0bbe04665475",
   "metadata": {},
   "source": [
    "Method overriding is an ability of any object-oriented programming language that allows a subclass or child class to provide a specific implementation of a method that is already provided by one of its super-classes or parent classes. When a method in a subclass has the same name, same parameters or signature and same return type(or sub-type) as a method in its super-class, then the method in the subclass is said to override the method in the super-class."
   ]
  },
  {
   "cell_type": "code",
   "execution_count": 19,
   "id": "6c64fa9f-d42e-4876-83eb-2992e22d9a6e",
   "metadata": {},
   "outputs": [
    {
     "name": "stdout",
     "output_type": "stream",
     "text": [
      "Inside Parent\n",
      "Inside Child\n"
     ]
    }
   ],
   "source": [
    "# Python program to demonstrate\n",
    "# method overriding\n",
    "class Parent():\n",
    "\t\n",
    "\t\n",
    "\tdef __init__(self):\n",
    "\t\tself.value = \"Inside Parent\"\n",
    "\t\t\n",
    "\t# Parent's show method\n",
    "\tdef show(self):\n",
    "\t\tprint(self.value)\n",
    "\t\t\n",
    "\n",
    "class Child(Parent):\n",
    "\t\n",
    "\t\n",
    "\tdef __init__(self):\n",
    "\t\tself.value = \"Inside Child\"\n",
    "\t\t\n",
    "\t# Child's show method\n",
    "\tdef show(self):\n",
    "\t\tprint(self.value)\n",
    "\t\t\n",
    "obj1 = Parent()\n",
    "obj2 = Child()\n",
    "\n",
    "obj1.show()\n",
    "obj2.show()\n"
   ]
  },
  {
   "cell_type": "code",
   "execution_count": null,
   "id": "0d8d2e5c-ccf3-4214-943c-3248d8d383df",
   "metadata": {},
   "outputs": [],
   "source": []
  }
 ],
 "metadata": {
  "kernelspec": {
   "display_name": "Python 3 (ipykernel)",
   "language": "python",
   "name": "python3"
  },
  "language_info": {
   "codemirror_mode": {
    "name": "ipython",
    "version": 3
   },
   "file_extension": ".py",
   "mimetype": "text/x-python",
   "name": "python",
   "nbconvert_exporter": "python",
   "pygments_lexer": "ipython3",
   "version": "3.10.8"
  }
 },
 "nbformat": 4,
 "nbformat_minor": 5
}
