{
 "cells": [
  {
   "cell_type": "markdown",
   "id": "dcbf285b-7558-4f96-8cd2-d247a539f677",
   "metadata": {},
   "source": [
    "Q1. What is an Exception in python? Write the difference between Exceptions and syntax errors."
   ]
  },
  {
   "cell_type": "markdown",
   "id": "7f2196a4-2cc2-4e8f-89dd-fe43528cb647",
   "metadata": {},
   "source": [
    "Ans) When a Python program meets an error, it stops the execution of the rest of the program. An error in Python might be either an error in the syntax of an expression or a Python exception.\n",
    "\n",
    "An exception in Python is an incident that happens while executing a program that causes the regular course of the program's commands to be disrupted. When a Python code comes across a condition it can't handle, it raises an exception. An object in Python that describes an error is called an exception.\n",
    "\n",
    "\n",
    "Errors are the problems in a program due to which the program will stop the execution. On the other hand, exceptions are raised when some internal events occur which changes the normal flow of the program.\n",
    "\n",
    "When the proper syntax of the language is not followed then a syntax error is thrown.\n",
    "When in the runtime an error that occurs after passing the syntax test is called exception or logical type. "
   ]
  },
  {
   "cell_type": "code",
   "execution_count": null,
   "id": "3aec2158-0bc7-42c7-9ed8-5f5acc58fdde",
   "metadata": {},
   "outputs": [],
   "source": []
  },
  {
   "cell_type": "markdown",
   "id": "ba2eeef0-12e1-4d88-a1a6-3a7713d69402",
   "metadata": {},
   "source": [
    "Q2. Q2. What happens when an exception is not handled? Explain with an example."
   ]
  },
  {
   "cell_type": "markdown",
   "id": "86dd7453-5f1a-4a4c-8d28-b47accea7af1",
   "metadata": {},
   "source": [
    "Ans) If the exceptions are not handled, it drives the program into a halt state. Exception handling in python is required to prevent the program from terminating abruptly."
   ]
  },
  {
   "cell_type": "code",
   "execution_count": null,
   "id": "3b06339e-3399-4843-b908-a46d1349d0e3",
   "metadata": {},
   "outputs": [],
   "source": []
  },
  {
   "cell_type": "markdown",
   "id": "cbbb56a3-61f1-4ee4-9dc4-6bbeb8daa920",
   "metadata": {},
   "source": [
    "Q3. Which Python statements are used to catch and handle exceptions? Explain with an example."
   ]
  },
  {
   "cell_type": "markdown",
   "id": "ee0f02f1-c678-4a0c-9455-889f51618223",
   "metadata": {},
   "source": [
    "Ans) Try and except statements are used to catch and handle exceptions in Python. "
   ]
  },
  {
   "cell_type": "markdown",
   "id": "30f6cdd6-ab8b-4c13-8333-bfe80d5d2149",
   "metadata": {},
   "source": [
    "E.g.--"
   ]
  },
  {
   "cell_type": "code",
   "execution_count": 1,
   "id": "22d9b5eb-2b39-4848-bb74-6e70a41ed369",
   "metadata": {},
   "outputs": [
    {
     "name": "stdout",
     "output_type": "stream",
     "text": [
      "Error: Denominator cannot be 0.\n"
     ]
    }
   ],
   "source": [
    "try:\n",
    "    numerator = 10\n",
    "    denominator = 0\n",
    "\n",
    "    result = numerator/denominator\n",
    "\n",
    "    print(result)\n",
    "except:\n",
    "    print(\"Error: Denominator cannot be 0.\")"
   ]
  },
  {
   "cell_type": "code",
   "execution_count": null,
   "id": "2873955a-5ff0-4601-a441-3ca4e5a0819f",
   "metadata": {},
   "outputs": [],
   "source": []
  },
  {
   "cell_type": "markdown",
   "id": "1f53eb98-fe47-49fa-a4da-bac7d4f8d8f6",
   "metadata": {},
   "source": [
    "Q4. Explain with an e.g.:\n",
    "       a) try and else :-  In some situations, we might want to run a certain block of code if the code block inside try runs without any errors.\n",
    "For these cases, we can use the optional else keyword with the try statement.  \n",
    "Exceptions in the else clause are not handled by the preceding except clauses\n",
    "for e.g\n"
   ]
  },
  {
   "cell_type": "code",
   "execution_count": 7,
   "id": "1fb64e76-6ed2-452b-99d9-650b118267ae",
   "metadata": {},
   "outputs": [
    {
     "name": "stdout",
     "output_type": "stream",
     "text": [
      "Hello\n",
      "Nothing went wrong\n"
     ]
    }
   ],
   "source": [
    "# When try block does not raise any errors, then only else block will be executed:\n",
    "\n",
    "try:\n",
    "    '''\n",
    "    a = 1\n",
    "    b = 0\n",
    "    print(a/b)\n",
    "    '''\n",
    "    print(\"Hello\")\n",
    "except:\n",
    "    print(\"Something went wrong\")\n",
    "else:\n",
    "    print(\"Nothing went wrong\")\n"
   ]
  },
  {
   "cell_type": "code",
   "execution_count": null,
   "id": "23c5da5b-fb2f-43d9-99bc-108490079acb",
   "metadata": {},
   "outputs": [],
   "source": []
  },
  {
   "cell_type": "markdown",
   "id": "f1ba87f9-0478-4a7a-9dc2-ce192859bf66",
   "metadata": {},
   "source": [
    "Q5. What are Custom Exceptions in python? Why do we need Custom Exceptions? Explain with an example."
   ]
  },
  {
   "cell_type": "markdown",
   "id": "d29511e1-af32-4195-a599-ec6d9039a179",
   "metadata": {},
   "source": [
    "Ans) Custom exceptions in python are user defined exceptions.\n",
    "\n",
    "Python is known for its readability and user-friendliness, using custom exceptions can help us improve this even more, especially when we are designing our package.\n",
    "\n",
    "for e.g."
   ]
  },
  {
   "cell_type": "code",
   "execution_count": 1,
   "id": "c5427551-47b0-4df6-b3df-13b9e01c696e",
   "metadata": {},
   "outputs": [
    {
     "name": "stdin",
     "output_type": "stream",
     "text": [
      "Guess The number:  5\n"
     ]
    },
    {
     "name": "stdout",
     "output_type": "stream",
     "text": [
      "Congratulation! You guessed It correctly.\n"
     ]
    }
   ],
   "source": [
    "class guess(Exception):\n",
    "    pass\n",
    "\n",
    "class valuetoosmall(guess):\n",
    "    pass\n",
    "\n",
    "class valuetoolarge(guess):\n",
    "    pass\n",
    "\n",
    "\n",
    "number = 5\n",
    "\n",
    "while True:\n",
    "    try:\n",
    "        i_num = int(input(\"Guess The number: \"))\n",
    "        \n",
    "        if i_num<number:\n",
    "            raise valuetoosmall\n",
    "        elif i_num>number:\n",
    "            raise valuetoolarge\n",
    "            \n",
    "        break\n",
    "        \n",
    " \n",
    "    except valuetoosmall:\n",
    "        print(\"This value is smaller than the number, Try Again!\")\n",
    "        \n",
    "    except valuetoolarge:\n",
    "        print(\"This value is larger than the number, Try Again!\")\n",
    "        \n",
    "        \n",
    "    \n",
    "print(\"Congratulation! You guessed It correctly.\")"
   ]
  },
  {
   "cell_type": "code",
   "execution_count": null,
   "id": "5496d6da-e1b6-4263-a5ce-b49d1d1e5e59",
   "metadata": {},
   "outputs": [],
   "source": []
  },
  {
   "cell_type": "code",
   "execution_count": null,
   "id": "3f67c574-8db4-4844-a74a-c360ef166db7",
   "metadata": {},
   "outputs": [],
   "source": []
  },
  {
   "cell_type": "markdown",
   "id": "2be82096-9a92-4175-abb8-4b54a706a120",
   "metadata": {},
   "source": [
    "Q6.Create custom exception, class. Use this class to handle an exception."
   ]
  },
  {
   "cell_type": "code",
   "execution_count": 1,
   "id": "3762b4f6-4bcb-4b15-928d-bf1cc987e9db",
   "metadata": {},
   "outputs": [
    {
     "name": "stdin",
     "output_type": "stream",
     "text": [
      "Guess The number:  5\n"
     ]
    },
    {
     "name": "stdout",
     "output_type": "stream",
     "text": [
      "Congratulation! You guessed It correctly.\n"
     ]
    }
   ],
   "source": [
    "class guess(Exception):\n",
    "    pass\n",
    "\n",
    "class valuetoosmall(guess):\n",
    "    pass\n",
    "\n",
    "class valuetoolarge(guess):\n",
    "    pass\n",
    "\n",
    "\n",
    "number = 5\n",
    "\n",
    "while True:\n",
    "    try:\n",
    "        i_num = int(input(\"Guess The number: \"))\n",
    "        \n",
    "        if i_num<number:\n",
    "            raise valuetoosmall\n",
    "        elif i_num>number:\n",
    "            raise valuetoolarge\n",
    "            \n",
    "        break\n",
    "        \n",
    " \n",
    "    except valuetoosmall:\n",
    "        print(\"This value is smaller than the number, Try Again!\")\n",
    "        \n",
    "    except valuetoolarge:\n",
    "        print(\"This value is larger than the number, Try Again!\")\n",
    "        \n",
    "        \n",
    "    \n",
    "print(\"Congratulation! You guessed It correctly.\")"
   ]
  },
  {
   "cell_type": "markdown",
   "id": "3baf29e1-63c7-452e-b80d-d3fa62e14ea0",
   "metadata": {},
   "source": [
    "'this' is not a keyword in python it is used in java"
   ]
  }
 ],
 "metadata": {
  "kernelspec": {
   "display_name": "Python 3 (ipykernel)",
   "language": "python",
   "name": "python3"
  },
  "language_info": {
   "codemirror_mode": {
    "name": "ipython",
    "version": 3
   },
   "file_extension": ".py",
   "mimetype": "text/x-python",
   "name": "python",
   "nbconvert_exporter": "python",
   "pygments_lexer": "ipython3",
   "version": "3.10.8"
  }
 },
 "nbformat": 4,
 "nbformat_minor": 5
}
