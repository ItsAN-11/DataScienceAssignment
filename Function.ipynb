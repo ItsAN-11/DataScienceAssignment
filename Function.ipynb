{
 "cells": [
  {
   "cell_type": "markdown",
   "id": "5a755461-c65b-4ac1-96b6-a109c29bf488",
   "metadata": {},
   "source": [
    "### Q1.Which keyword is used to create a ###    function?\n",
    "#### ----> def keyword."
   ]
  },
  {
   "cell_type": "code",
   "execution_count": null,
   "id": "cf4a5486-664b-4038-ae8c-db2544cd1b12",
   "metadata": {},
   "outputs": [],
   "source": [
    "## function to return a list of odd no. from range(1,25)"
   ]
  },
  {
   "cell_type": "code",
   "execution_count": 46,
   "id": "2ac66d50-bfc2-467d-b191-d7d366d4414b",
   "metadata": {},
   "outputs": [],
   "source": [
    "def odd_numbers(n):\n",
    "    return [x for x in range(n + 1) if x % 2 == 1]"
   ]
  },
  {
   "cell_type": "code",
   "execution_count": 47,
   "id": "9e0ea3c7-fba9-48a7-b09e-8870dd2a1ae0",
   "metadata": {},
   "outputs": [
    {
     "data": {
      "text/plain": [
       "[1, 3, 5, 7, 9, 11, 13, 15, 17, 19, 21, 23, 25]"
      ]
     },
     "execution_count": 47,
     "metadata": {},
     "output_type": "execute_result"
    }
   ],
   "source": [
    "odd_numbers(25)\n"
   ]
  },
  {
   "cell_type": "code",
   "execution_count": null,
   "id": "0c05c163-6b69-4b24-874a-b6541d721422",
   "metadata": {},
   "outputs": [],
   "source": []
  },
  {
   "cell_type": "markdown",
   "id": "47d59ef5-46f3-4a03-bdcc-2c206afd8c90",
   "metadata": {},
   "source": [
    "### Q2. why *args and **kwargs are used?\n",
    "### ----> We use *args and **kwargs as an argument when we are unsure about the number of arguments to pass in the functions"
   ]
  },
  {
   "cell_type": "code",
   "execution_count": 1,
   "id": "36e028b3-8a3a-48fd-964c-dded28283cf3",
   "metadata": {},
   "outputs": [],
   "source": [
    "#use of *args\n",
    "\n",
    "\n",
    "def adder(*num):\n",
    "    sum = 0\n",
    "    \n",
    "    for n in num:\n",
    "        sum = sum + n\n",
    "    print(\"Sum:\",sum)\n"
   ]
  },
  {
   "cell_type": "code",
   "execution_count": 2,
   "id": "287fb4b4-112b-4c4f-8a21-49703c977285",
   "metadata": {},
   "outputs": [
    {
     "name": "stdout",
     "output_type": "stream",
     "text": [
      "Sum: 6\n"
     ]
    }
   ],
   "source": [
    "adder(2,4)"
   ]
  },
  {
   "cell_type": "code",
   "execution_count": null,
   "id": "b848acca-5062-4aa4-a88f-7f41b65cbec8",
   "metadata": {},
   "outputs": [],
   "source": []
  },
  {
   "cell_type": "code",
   "execution_count": 7,
   "id": "d065871c-12c8-4b49-8b1c-aa6dd24ab859",
   "metadata": {},
   "outputs": [
    {
     "name": "stdout",
     "output_type": "stream",
     "text": [
      "\n",
      "Data type of argument: <class 'dict'>\n",
      "Firstname is Sita\n",
      "Lastname is Sharma\n",
      "Age is 22\n",
      "Phone is 1234567890\n",
      "\n",
      "Data type of argument: <class 'dict'>\n",
      "Firstname is John\n",
      "Lastname is Wood\n",
      "Email is johnwood@nomail.com\n",
      "Country is Wakanda\n",
      "Age is 25\n",
      "Phone is 9876543210\n"
     ]
    }
   ],
   "source": [
    "# use of **kwargs \n",
    "def intro(**data):\n",
    "    print(\"\\nData type of argument:\",type(data))\n",
    "    for key, value in data.items():\n",
    "        print(\"{} is {}\".format(key,value))\n",
    "intro(Firstname=\"Sita\", Lastname=\"Sharma\", Age=22, Phone=1234567890)\n",
    "intro(Firstname=\"John\", Lastname=\"Wood\", Email=\"johnwood@nomail.com\", Country=\"Wakanda\", Age=25, Phone=9876543210)"
   ]
  },
  {
   "cell_type": "code",
   "execution_count": null,
   "id": "2bb5bddc-d911-4e5b-be20-faefed9cb4e3",
   "metadata": {},
   "outputs": [],
   "source": []
  },
  {
   "cell_type": "markdown",
   "id": "15f7ca5d-dd98-4735-95ac-8717930286e8",
   "metadata": {},
   "source": [
    "### Q3. what is an iterator?\n",
    "###     An iterator is an object that can be iterated upon, meaning that you can traverse through all the       ###     values. Technically, in Python, an iterator is an object which implements the iterator protocol, which   ###     consist of the methods __iter__() and __next__() ."
   ]
  },
  {
   "cell_type": "code",
   "execution_count": null,
   "id": "0bb087bd-b50c-4c22-9d50-16961e0a5ec0",
   "metadata": {},
   "outputs": [],
   "source": []
  },
  {
   "cell_type": "markdown",
   "id": "16cfa642-7d6c-4262-8b9d-f27020235ed5",
   "metadata": {},
   "source": [
    "### Name the method that is used to iterate object\n",
    "### A Python iterator object must implement two special methods, __iter__() and __next__(), collectively called the iterator protocol."
   ]
  },
  {
   "cell_type": "code",
   "execution_count": null,
   "id": "002b72d4-5706-41fb-a205-dc98230f805d",
   "metadata": {},
   "outputs": [],
   "source": []
  },
  {
   "cell_type": "code",
   "execution_count": null,
   "id": "6fb0584b-e026-4a0d-a0b5-86d1cabd5db6",
   "metadata": {},
   "outputs": [],
   "source": [
    "### Q4. what is a generator function in python?\n"
   ]
  },
  {
   "cell_type": "markdown",
   "id": "906104bc-885e-47db-9183-87be32c4c4fb",
   "metadata": {},
   "source": [
    "### A generator-function is defined like a normal function, but whenever it needs to generate a value, it does so with the yield keyword rather than return. If the body of a def contains yield, the function automatically becomes a generator function. "
   ]
  },
  {
   "cell_type": "code",
   "execution_count": null,
   "id": "532dd130-d112-438b-a8a5-278361f4ccdf",
   "metadata": {},
   "outputs": [],
   "source": [
    "### Why yield keyword is used?"
   ]
  },
  {
   "cell_type": "markdown",
   "id": "d2838297-b591-4509-8cd6-f3a433e898f8",
   "metadata": {},
   "source": [
    "### The yield keyword is used to produce a value from the generator and pause the generator function's execution until the next value is requested."
   ]
  },
  {
   "cell_type": "code",
   "execution_count": null,
   "id": "2db901b7-62a0-4741-bd22-27bd93079f66",
   "metadata": {},
   "outputs": [],
   "source": [
    "### Example of generator function"
   ]
  },
  {
   "cell_type": "code",
   "execution_count": 9,
   "id": "591e3a6e-f63c-47c7-9de0-a9c74761bbec",
   "metadata": {},
   "outputs": [
    {
     "name": "stdout",
     "output_type": "stream",
     "text": [
      "0\n",
      "2\n",
      "4\n",
      "6\n",
      "8\n"
     ]
    }
   ],
   "source": [
    "def simple():  \n",
    "    for i in range(10):  \n",
    "        if(i%2==0):  \n",
    "            yield i  \n",
    "  \n",
    " \n",
    "for i in simple():  \n",
    "    print(i)  "
   ]
  },
  {
   "cell_type": "code",
   "execution_count": null,
   "id": "2c0a6572-d6b4-4ef0-898b-8c4074c8e401",
   "metadata": {},
   "outputs": [],
   "source": []
  },
  {
   "cell_type": "markdown",
   "id": "10fe6da7-bef9-4fc9-800d-4837bc352435",
   "metadata": {},
   "source": [
    "### Q5. Create a generator function for prime number less  than 1000. Use the next() method to print the first 20 prime numbers."
   ]
  },
  {
   "cell_type": "code",
   "execution_count": 27,
   "id": "507615d4-5149-47a5-aef9-2311167bf343",
   "metadata": {},
   "outputs": [
    {
     "name": "stdout",
     "output_type": "stream",
     "text": [
      "1\n",
      "1\n"
     ]
    }
   ],
   "source": [
    "def getPrimes(n):\n",
    "    prime=True\n",
    "    i=1\n",
    "    while(i<n):\n",
    "        for a in range(1,i):\n",
    "            if(i%a==0):\n",
    "                prime=False\n",
    "                \n",
    "        if(prime):    \n",
    "            yield i\n",
    "         \n",
    "x = getPrimes(20)\n",
    "print(next(x))\n",
    "print(next(x))\n",
    "    "
   ]
  },
  {
   "cell_type": "code",
   "execution_count": 7,
   "id": "24b23bc9-e999-43e5-be1b-b701341b3ed5",
   "metadata": {},
   "outputs": [],
   "source": [
    "prime = getPrimes(1000)"
   ]
  },
  {
   "cell_type": "code",
   "execution_count": 8,
   "id": "d179a9d5-e9dd-4bf5-ae01-0d02f9ca2a10",
   "metadata": {},
   "outputs": [
    {
     "name": "stdout",
     "output_type": "stream",
     "text": [
      "<generator object getPrimes at 0x7f7dd833f1b0>\n"
     ]
    }
   ],
   "source": [
    "print(prime)"
   ]
  },
  {
   "cell_type": "code",
   "execution_count": null,
   "id": "d12386a7-2986-437b-a6ec-f2ab05796cd0",
   "metadata": {},
   "outputs": [],
   "source": []
  },
  {
   "cell_type": "code",
   "execution_count": 3,
   "id": "c9c6c134-124f-4dad-b4ea-4f3e2a899792",
   "metadata": {},
   "outputs": [],
   "source": [
    "def getPrimes(n):\n",
    "    i = 2\n",
    "    while i < n :\n",
    "        prime = True # reset the `prime` variable before the inner loop\n",
    "        for a in xrange(2, i):\n",
    "            if i%a == 0:\n",
    "                prime = False\n",
    "                break\n",
    "        if prime:    \n",
    "            yield i\n",
    "        i += 1"
   ]
  },
  {
   "cell_type": "code",
   "execution_count": null,
   "id": "b80e795b-711f-4886-98ab-d984991aaa9d",
   "metadata": {},
   "outputs": [],
   "source": []
  },
  {
   "cell_type": "code",
   "execution_count": 1,
   "id": "8b07e202-ffd9-4654-b32f-57f6983bb989",
   "metadata": {},
   "outputs": [],
   "source": [
    "def prime_numbers(n):\n",
    "    primes = []\n",
    "    for i in range(2, n + 1):\n",
    "        for j in range(2, int(i ** 0.5) + 1):\n",
    "            if i%j == 0:\n",
    "                break\n",
    "        else:\n",
    "            primes.append(i)\n",
    "            yield primes\n",
    "\n"
   ]
  },
  {
   "cell_type": "code",
   "execution_count": 2,
   "id": "4fcab133-e770-45f6-8609-7be543ce7526",
   "metadata": {},
   "outputs": [
    {
     "data": {
      "text/plain": [
       "<generator object prime_numbers at 0x7f70711e53f0>"
      ]
     },
     "execution_count": 2,
     "metadata": {},
     "output_type": "execute_result"
    }
   ],
   "source": [
    "prime_numbers(20)"
   ]
  },
  {
   "cell_type": "code",
   "execution_count": 3,
   "id": "3b8f8dad-ab7b-44b9-b45d-48181a839724",
   "metadata": {},
   "outputs": [
    {
     "name": "stdout",
     "output_type": "stream",
     "text": [
      "[2]\n",
      "[2, 3]\n",
      "[2, 3, 5]\n",
      "[2, 3, 5, 7]\n",
      "[2, 3, 5, 7, 11]\n",
      "[2, 3, 5, 7, 11, 13]\n",
      "[2, 3, 5, 7, 11, 13, 17]\n",
      "[2, 3, 5, 7, 11, 13, 17, 19]\n"
     ]
    }
   ],
   "source": [
    "for i in prime_numbers(20):\n",
    "    print(i)"
   ]
  },
  {
   "cell_type": "code",
   "execution_count": null,
   "id": "5e6bb096-40d8-412b-bf17-b188f260ef30",
   "metadata": {},
   "outputs": [],
   "source": [
    "\n"
   ]
  }
 ],
 "metadata": {
  "kernelspec": {
   "display_name": "Python 3 (ipykernel)",
   "language": "python",
   "name": "python3"
  },
  "language_info": {
   "codemirror_mode": {
    "name": "ipython",
    "version": 3
   },
   "file_extension": ".py",
   "mimetype": "text/x-python",
   "name": "python",
   "nbconvert_exporter": "python",
   "pygments_lexer": "ipython3",
   "version": "3.10.8"
  }
 },
 "nbformat": 4,
 "nbformat_minor": 5
}
