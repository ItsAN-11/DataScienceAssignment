{
 "cells": [
  {
   "cell_type": "markdown",
   "id": "dcae6473-d53d-4c58-8915-d0cb0af529eb",
   "metadata": {},
   "source": [
    "1. Who developed python ?\n",
    "   Python is developed by Guido van Rossum in 1991.\n",
    "   \n",
    "2. Which type of programming does python support?\n",
    "   Python is an interpreted programming language, which supports object-oriented, structured and functional programming          language.\n",
    "   \n",
    "3. Is python is case sensitive when dealing with identifiers?\n",
    "   Yes, Python is a case-sensitive language, i.e., it treats uppercase and lowercase characters differently and  this applies to identifiers too.\n",
    "   \n",
    "4. Extension of Python file is '.py', '.pyi', '.pyc', '.pyd', '.pyo', '.pyw', '.pyz'.\n",
    "\n",
    "5. Is python code is compiled or intepreted?\n",
    "   Python program is first compiled and then interpreted. The compilation part is hidden from the programmer thus, many programmers believe that it is an interpreted language. The compilation part is done first when we execute our code and this will generate byte code and internally this byte code gets converted by the python virtual machine(p.v.m) according to the underlying platform(machine+operating system).\n",
    "   \n",
    "6. Few blocks of code used to define in python programming?\n",
    "   A Python program is constructed from code blocks. A block is a piece of Python program text that is executed as a unit. The following are blocks: a module, a function body, and a class definition.\n",
    "   \n",
    "7. '#' charater is used to give single line comments in Python.\n",
    "\n",
    "8. 'sys.version()' function will help us t find the version of python.\n",
    "\n",
    "9. Using lamda() constructor we can create anonymous function at runtime.\n",
    "\n",
    "10. pip stands for'preferred installer program'.\n",
    "\n",
    "11. Some built-in fumctions are :\n",
    "     ascii()\t    Returns a readable version of an object. Replaces none-ascii characters with escape character.\n",
    "     bin()          Return the binary version of a number.\n",
    "     help()\t        Executes the built-in help system.\n",
    "     memoryview()\tReturns a memory view object.\n",
    "     isinstance()\tReturns True if a specified object is an instance of a specified object\n",
    "     etc,.\n",
    "     \n",
    "     \n",
    "12.  When writing or using identifiers in Python, it has a maximum of 79 characters.\n",
    "     Unlikely, Python gives the identifiers unlimited length.\n",
    "     However, the layout of PEP-8 prevents the user from breaking the rules and includes a 79-character limit.\n",
    "\n",
    "13. There are many benefits of learning python some of them are as follow:- \n",
    "        Data science\n",
    "        Scientific and mathematical computing\n",
    "        Finance and trading\n",
    "        System automation and administration\n",
    "        Computer graphics\n",
    "        Basic game development\n",
    "        Security and penetration testing\n",
    "        General and application-specific scripting\n",
    "        Mapping and geography (GIS software)\n",
    "        \n",
    "14. Memory is managed by garbage collector in python. Memory management in Python involves a private heap containing all Python objects and data structures. The management of this private heap is ensured internally by the Python memory management. \n",
    "\n",
    "15. For downloading python in windows follow the following steps:-\n",
    "    Step:1-- Open a browser to the Python website and download the Windows installer.\n",
    "    Step:2-- Double click on the downloaded file and install Python for all users, and ensure that Python is added to your                  path. Click on Install now to begin.\n",
    "    Step:3-- After the installation is complete, click Disable path length limit and then Close.\n",
    "    Step4:-- Click Close to end the installation\n",
    "    \n",
    "16. Yes, indentation is required in python.It uses indentation to indicate a block of code."
   ]
  },
  {
   "cell_type": "code",
   "execution_count": null,
   "id": "f9e57436-ee2d-45cb-930a-ca4f48877f02",
   "metadata": {},
   "outputs": [],
   "source": []
  }
 ],
 "metadata": {
  "kernelspec": {
   "display_name": "Python 3 (ipykernel)",
   "language": "python",
   "name": "python3"
  },
  "language_info": {
   "codemirror_mode": {
    "name": "ipython",
    "version": 3
   },
   "file_extension": ".py",
   "mimetype": "text/x-python",
   "name": "python",
   "nbconvert_exporter": "python",
   "pygments_lexer": "ipython3",
   "version": "3.10.8"
  }
 },
 "nbformat": 4,
 "nbformat_minor": 5
}
