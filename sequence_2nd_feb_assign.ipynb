{
 "cells": [
  {
   "cell_type": "markdown",
   "id": "c2504e59-838d-4363-a5e0-35f0864d4db0",
   "metadata": {},
   "source": [
    "### Q1. What are the characteristics of the tuples? \n",
    "###       Tuple items are ordered, unchangeable, and allow duplicate values. Tuple items are indexed, the first item has ###         index [0] , the second item has index [1] etc.\n",
    "### Is tuple immutable?\n",
    "### Yes, tuples items are immutable, i.e., its items can't be changed or edit."
   ]
  },
  {
   "cell_type": "markdown",
   "id": "31f809b9-b817-4443-8da5-64063f41aaf8",
   "metadata": {},
   "source": [
    "### Q2. What are the two tuple methods in python? Give an example of each method. Give a reason why\n",
    "### Tuples have only two in-built methods as compared to Lists.\n",
    "### ->> Tuples have only two inbuilt methods compared to the list because tuples are immutable and lists are mutable. \n",
    "###        The following are the two method in tuples:-\n",
    "###         1.count()\tReturns the number of times a specified value occurs in a tuple\n",
    "###         2.index()\tSearches the tuple for a specified value and returns the position of where it was found\n"
   ]
  },
  {
   "cell_type": "code",
   "execution_count": null,
   "id": "ccf87c54-97d9-4a3c-a07c-73e57b9bbde8",
   "metadata": {},
   "outputs": [],
   "source": []
  },
  {
   "cell_type": "code",
   "execution_count": null,
   "id": "42631238-02d0-4a2a-8d64-4f78453fa36f",
   "metadata": {},
   "outputs": [],
   "source": [
    "### Q3.Which collection data type in python don't allow duplicate value items \n",
    "###   ->> Set data type and dictionary's key value duplication is not allowed in python\n",
    "\n",
    "### Q3. Write a code using a set to remove duplicates from the given list.\n",
    "\n"
   ]
  },
  {
   "cell_type": "code",
   "execution_count": null,
   "id": "aae2513d-3811-4d3f-a9c5-cb83d04b2209",
   "metadata": {},
   "outputs": [],
   "source": [
    "List = [1, 1, 1, 2, 1, 3, 1, 4, 2, 1, 2, 2, 2, 3, 2, 4, 3, 1, 3, 2, 3, 3, 3, 4, 4, 1, 4, 2, 4, 3, 4, 4]\n",
    "\n",
    "updated_list = set(List)"
   ]
  },
  {
   "cell_type": "code",
   "execution_count": null,
   "id": "de01d7a8-339d-49d8-8e01-f15a2a4e3283",
   "metadata": {},
   "outputs": [],
   "source": []
  },
  {
   "cell_type": "code",
   "execution_count": null,
   "id": "0f15b45e-d126-4398-a8c4-b152e25dc6de",
   "metadata": {},
   "outputs": [],
   "source": [
    "### Q4. Explain the difference between the union() and update() methods for a set. Give an example of each method.\n",
    "###  -->> union()\tReturn a set containing the union of sets\n",
    "###    e.g. \n",
    "x = {\"apple\", \"banana\", \"cherry\"}\n",
    "y = {\"google\", \"microsoft\", \"apple\"}\n",
    "\n",
    "z = x.union(y)\n",
    "\n",
    "print(z)"
   ]
  },
  {
   "cell_type": "code",
   "execution_count": null,
   "id": "02f23c82-3599-43d1-b326-e3948fc134f0",
   "metadata": {},
   "outputs": [],
   "source": [
    "###  -->> update()\tUpdate the set with the union of this set and others\n",
    "###       e.g.\n",
    "x = {\"apple\", \"banana\", \"cherry\"}\n",
    "y = {\"google\", \"microsoft\", \"apple\"}\n",
    "\n",
    "x.update(y)\n",
    "\n",
    "print(x)"
   ]
  },
  {
   "cell_type": "code",
   "execution_count": null,
   "id": "3a71b447-b4f8-462c-8f8f-b939a2ec5dca",
   "metadata": {},
   "outputs": [],
   "source": []
  },
  {
   "cell_type": "code",
   "execution_count": null,
   "id": "3f7674d4-c8cc-4b74-814c-08ed098397d8",
   "metadata": {},
   "outputs": [],
   "source": [
    "### Q5. What is a dictionary? Give an example. Also, state whether a dictionary is ordered or unordered.\n",
    "### -->> Dictionaries are used to store data values in key:value pairs.\n",
    "###      A dictionary is a collection which is ordered, changeable and do not allow duplicates. E.g.\n",
    "my_data = {\n",
    "  \"name\": \"Anjali\",\n",
    "  \"course\": \"Data Science\",\n",
    "  \"joining\": \"28th jan'23\"\n",
    "}"
   ]
  },
  {
   "cell_type": "code",
   "execution_count": null,
   "id": "402bf4ba-80db-44d0-9ffb-1234bdb153b1",
   "metadata": {},
   "outputs": [],
   "source": []
  },
  {
   "cell_type": "code",
   "execution_count": null,
   "id": "b78a90a3-8369-4f53-a712-40579dbf7c3e",
   "metadata": {},
   "outputs": [],
   "source": [
    "### Q6. Can we create a nested dictionary? If so, please give an example by creating a simple one-level nested dictionary.\n",
    "\n",
    "courses = {\n",
    "  \"student1\" : {\n",
    "    \"name\" : \"Emil\",\n",
    "    \"course_name\" : \"Data science\"\n",
    "  },\n",
    "  \"student2\" : {\n",
    "    \"name\" : \"Sohil\",\n",
    "    \"course_name\" : \"web dev\"\n",
    "  },\n",
    "  \"student3\" : {\n",
    "    \"name\" : \"Linus\",\n",
    "    \"course_name\" : \"java dev\"\n",
    "  }\n",
    "}"
   ]
  },
  {
   "cell_type": "code",
   "execution_count": null,
   "id": "1c6e5a2e-516c-4ba9-8d56-98eabbbbab24",
   "metadata": {},
   "outputs": [],
   "source": [
    "print(courses[\"student2\"][\"name\"])"
   ]
  },
  {
   "cell_type": "code",
   "execution_count": null,
   "id": "97ff1164-75d3-4d35-963b-2c09ef9fadb0",
   "metadata": {},
   "outputs": [],
   "source": []
  },
  {
   "cell_type": "markdown",
   "id": "bee71d5e-695e-44f1-a6c2-8e3bb678311a",
   "metadata": {},
   "source": [
    "### Q7. Using setdefault() method, create key named topics in the given dictionary and also add the value of the key as this list ['Python', 'Machine Learning’, 'Deep Learning']"
   ]
  },
  {
   "cell_type": "code",
   "execution_count": null,
   "id": "d0ac3562-6a61-4588-a53e-23609fce76cd",
   "metadata": {},
   "outputs": [],
   "source": [
    "dict1 = {'language' : 'Python', 'course': 'Data Science Masters'}\n",
    "dict1.setdefault(\"course\",\"['Python', 'Machine Learning’, 'Deep Learning']\")"
   ]
  },
  {
   "cell_type": "code",
   "execution_count": null,
   "id": "15bdc0f6-03a8-402c-9910-b5293ffac3a7",
   "metadata": {},
   "outputs": [],
   "source": []
  },
  {
   "cell_type": "code",
   "execution_count": null,
   "id": "d76d1c2c-c5f1-49bf-927a-56b2c479c9b7",
   "metadata": {},
   "outputs": [],
   "source": []
  },
  {
   "cell_type": "markdown",
   "id": "f1131835-c650-4cbc-8bde-738fa7947f20",
   "metadata": {},
   "source": [
    "### Q8. What are the three view objects in dictionaries? Use the three in-built methods in python to display these three view         objects for the given dictionary.\n",
    "### dict1 = {'Sport': 'Cricket' , 'Teams': ['India', 'Australia', 'England', 'South Africa', 'Sri Lanka', 'New Zealand']}"
   ]
  },
  {
   "cell_type": "code",
   "execution_count": null,
   "id": "451d04e5-ad19-4e79-ac1a-ed6aa895ce13",
   "metadata": {},
   "outputs": [],
   "source": [
    "dict1 = {'Sport': 'Cricket' , 'Teams': ['India', 'Australia', 'England', 'South Africa', 'Sri Lanka', 'New Zealand']}\n"
   ]
  },
  {
   "cell_type": "code",
   "execution_count": null,
   "id": "72cec4c5-6ae3-44ba-92b0-fc99995c64e1",
   "metadata": {},
   "outputs": [],
   "source": [
    "# First view of dict1 \n",
    " print(dict1)"
   ]
  },
  {
   "cell_type": "code",
   "execution_count": null,
   "id": "a038af64-c287-4ce5-82f4-b231059da8fd",
   "metadata": {},
   "outputs": [],
   "source": [
    "# Second view of dict1\n",
    "\n",
    "values = dict1.values()\n",
    "print(\"Values of the dictionary are:\",values)\n"
   ]
  },
  {
   "cell_type": "code",
   "execution_count": null,
   "id": "5cce1269-108b-4447-819f-f6001fe6cd61",
   "metadata": {},
   "outputs": [],
   "source": [
    "# Third view of dictionary\n",
    "\n",
    "k = dict1.keys()\n",
    "print(k)"
   ]
  }
 ],
 "metadata": {
  "kernelspec": {
   "display_name": "Python 3 (ipykernel)",
   "language": "python",
   "name": "python3"
  },
  "language_info": {
   "codemirror_mode": {
    "name": "ipython",
    "version": 3
   },
   "file_extension": ".py",
   "mimetype": "text/x-python",
   "name": "python",
   "nbconvert_exporter": "python",
   "pygments_lexer": "ipython3",
   "version": "3.10.8"
  }
 },
 "nbformat": 4,
 "nbformat_minor": 5
}
